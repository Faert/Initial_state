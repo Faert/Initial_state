{
 "cells": [
  {
   "cell_type": "code",
   "execution_count": 9,
   "id": "68cd8fc3-6eed-46ed-b6f9-8b593804b69e",
   "metadata": {},
   "outputs": [],
   "source": [
    "import numpy as np\n",
    "\n",
    "# Importing standard Qiskit libraries\n",
    "from qiskit import QuantumCircuit, transpile, Aer, IBMQ\n",
    "#from qiskit.tools.jupyter import *\n",
    "from qiskit.visualization import *\n",
    "#from ibm_quantum_widgets import *\n",
    "from qiskit.providers.aer import QasmSimulator\n",
    "\n",
    "\n",
    "# Loading your IBM Quantum account(s)\n",
    "#IBMQ.save_account('')\n",
    "#provider = IBMQ.load_account()"
   ]
  },
  {
   "cell_type": "code",
   "execution_count": 10,
   "id": "de17f4e2-b06a-4d7d-9746-cdbacd8e7f8f",
   "metadata": {},
   "outputs": [],
   "source": [
    "#from ibm_quantum_widgets import CircuitComposer\n",
    "from qiskit import QuantumRegister, ClassicalRegister, execute\n",
    "#from qiskit_ibm_runtime import QiskitRuntimeService\n",
    "%matplotlib inline\n",
    "import matplotlib.pyplot as plt\n",
    "import itertools\n",
    "import math\n",
    "#from qiskit.circuit.library import MCXGate\n",
    "#MCgate = MCXGate(8)\n",
    "\n",
    "\n",
    "N = 8\n",
    "\n",
    "QRn = N\n",
    "CRn = N\n",
    "qreg_q = QuantumRegister(QRn, 'q')#0, 8\n",
    "qreg_cNnot = QuantumRegister(1, 'cx')#8\n",
    "qreg_g = QuantumRegister(3, 'g')#9, 11\n",
    "qreg_a = QuantumRegister(1, 'a')#12\n",
    "\n",
    "creg_mu = ClassicalRegister(4, 'mu0')\n",
    "creg_sigma = ClassicalRegister(4, 'sigma')\n",
    "creg_g = ClassicalRegister(3, 'cg')\n",
    "circuit = QuantumCircuit(qreg_q, qreg_cNnot, qreg_g, qreg_a, creg_mu, creg_sigma, creg_g)\n",
    "\n",
    "def X_bit_s(s, list):\n",
    "    i = 0\n",
    "    while (s != 0):\n",
    "        if(s & 1):\n",
    "            circuit.x(list[i])\n",
    "        i = i + 1\n",
    "        s = s >> 1\n",
    "\n",
    "def CnNOT_step(list, c):\n",
    "    if(len(list) >= 2):\n",
    "        i = len(list) - 2\n",
    "        circuit.ccx(list[len(list)-2], list[len(list)-1], c)\n",
    "    else:\n",
    "        circuit.cx(c, list[0])\n",
    "        return\n",
    "    \n",
    "    while(i != 0 and i != 1):\n",
    "        circuit.ccx(list[i-2], list[i-1], list[i])\n",
    "        i -= 2\n",
    "    \n",
    "    if(i == 1):\n",
    "        circuit.cx(list[0], list[i])\n",
    "        i += 2\n",
    "    else:\n",
    "        i += 4\n",
    "    \n",
    "    while(i < len(list)):\n",
    "        circuit.ccx(list[i-2], list[i-1], list[i])\n",
    "        i += 2\n",
    "\n",
    "def CnNOT(list, c, a):\n",
    "    if(len(list) % 2 == 1):\n",
    "        temp = list[1:]\n",
    "    else:\n",
    "        temp = list[2:]\n",
    "    temp.append(a)\n",
    "\n",
    "    CnNOT_step(list, a)\n",
    "    CnNOT_step(list, a)\n",
    "    circuit.barrier(np.arange(min(list), max(list)+1))\n",
    "    CnNOT_step(temp, c)\n",
    "    CnNOT_step(temp, c)\n",
    "    circuit.barrier(np.arange(min(list), max(list)+1))\n",
    "    CnNOT_step(list, a)\n",
    "    CnNOT_step(list, a)\n",
    "    circuit.barrier(np.arange(min(list), max(list)+1))\n",
    "    CnNOT_step(temp, c)\n",
    "    CnNOT_step(temp, c)\n",
    "\n",
    "def apr(reg, a, mod, acc):#reg(start, end), 0 <= start < end, 0 <= a < mod, acc >= 1, integers: start, end, acc\n",
    "    a = a/mod\n",
    "    i = 2\n",
    "    bin_str = \"\"\n",
    "    size = reg[1] - reg[0]\n",
    "    j = 1\n",
    "\n",
    "    while(i < mod*(10**acc) and j <= size):#!acc << test \n",
    "        if(a - 1/i >= 0):\n",
    "            bin_str += \"1\"\n",
    "            a -= 1/i\n",
    "            circuit.x(reg[1] - j)\n",
    "        elif(a - 1/i < 0):\n",
    "            bin_str += \"0\"\n",
    "        i = i << 1\n",
    "        j += 1\n",
    "    \n",
    "    return(bin_str)\n",
    "    \n",
    "def apr_acc(bin_str, a, mod):\n",
    "    apr_a = 0\n",
    "    for i in range(len(bin_str)):\n",
    "        if(bin_str[i] == \"1\"):\n",
    "            apr_a += 1/(2**(i+1))\n",
    "    return(apr_a*mod, apr_a, a - apr_a*mod, a/mod - apr_a)\n",
    "\n",
    "def QFT(reg):\n",
    "    for i in range(reg[1]-1, reg[0]-1, -1):\n",
    "        circuit.h(i)\n",
    "        for j in range(i-1, reg[0]-1, -1):\n",
    "            circuit.cp(math.pi / (1 << (i - j)), j, i)\n",
    "        circuit.barrier(np.arange(reg[0], reg[1]))\n",
    "\n",
    "def RQFT(reg):\n",
    "    for i in range(reg[0], reg[1]):\n",
    "        for j in range(reg[0], i):\n",
    "            circuit.cp(-1*math.pi / (1 << (i - j)), j, i)\n",
    "        circuit.h(i)\n",
    "\n",
    "def CSUB(reg, c, sub_a):\n",
    "    for j in range(reg[0], reg[1]):\n",
    "        if ((int(sub_a) >> (j - reg[0])) & 1):\n",
    "            for i in range(j, reg[1]):\n",
    "                circuit.cp(-1*math.pi / (1 << (i - j)), c, i)\n",
    "\n",
    "def CADD(reg, c, add_a):\n",
    "    for j in range(reg[0], reg[1]):\n",
    "        if ((int(add_a) >> (j - reg[0])) & 1):\n",
    "            for i in range(j, reg[1]):\n",
    "                circuit.cp(math.pi / (1 << (i - j)), c, i)\n",
    "\n",
    "def mu(reg1, reg2s, c, step):#mu > 0 at all step\n",
    "    size = reg1[1]-reg1[0]\n",
    "    if(reg2s != reg1[0]):\n",
    "        for i in range(size):\n",
    "            circuit.cx(reg1[0]+i, reg2s+i)\n",
    "    #-1/(2**step)\n",
    "    reg2 = (reg2s, reg2s+size)\n",
    "    QFT(reg2)\n",
    "    circuit.barrier(np.arange(0, N))\n",
    "    CSUB(reg2, c, (2**(step)))\n",
    "    circuit.barrier(np.arange(0, N))\n",
    "    RQFT(reg2)\n",
    "\n",
    "def mu_(reg1, reg2s, c, step):#mu > 0 at all step\n",
    "    size = reg1[1]-reg1[0]\n",
    "    #-1/(2**step)\n",
    "    reg2 = (reg2s, reg2s+size)\n",
    "    QFT(reg2)\n",
    "    circuit.barrier(np.arange(0, N))\n",
    "    CADD(reg2, c, (2**(step)))\n",
    "    circuit.barrier(np.arange(0, N))\n",
    "    RQFT(reg2)\n",
    "\n",
    "\n",
    "def step(list, step):#list[0-3] - mu, list[4-7] - sigma, list - sorted\n",
    "\n",
    "    #list = list_\n",
    "    #list.append(20)\n",
    "\n",
    "    f = open(\"step_\" + str(step) + \"_out_a.txt\", 'r')\n",
    "\n",
    "    temp = [row.strip().split() for row in f]\n",
    "\n",
    "    f.close()\n",
    "\n",
    "    for i, row in enumerate(temp):\n",
    "        for j in range(0, 8):\n",
    "            if(row[0][7-j] == '0'):\n",
    "                circuit.x(list[j])\n",
    "\n",
    "        CnNOT(list, qreg_a[0], qreg_cNnot[0])\n",
    "        #circuit.append(MCgate, list)\n",
    "        \n",
    "        #circuit.cry(float(row[1]), qreg_a[0], qreg_g[step])\n",
    "        circuit.ry(float(row[1])/2, qreg_g[step])\n",
    "        circuit.cx(qreg_a[0], qreg_g[step])\n",
    "        circuit.ry(-float(row[1])/2, qreg_g[step])\n",
    "        circuit.cx(qreg_a[0], qreg_g[step])\n",
    "        \n",
    "        CnNOT(list, qreg_a[0], qreg_cNnot[0])\n",
    "        #circuit.append(MCgate, list)\n",
    "\n",
    "        for j in range(0, 8):\n",
    "            if(row[0][7-j] == '0'):\n",
    "                circuit.x(list[j])\n",
    "\n",
    "mu0 = 4#math.pi\n",
    "sigma0 = 2.0\n",
    "mod = 8  #2^n n>0\n",
    "\n",
    "apr((0, 4), mu0, mod, 2)\n",
    "apr((4, 8), sigma0, mod, 2)\n",
    "#circuit.h(0)\n",
    "circuit.ry(math.pi/3, 0)\n",
    "#circuit.h(4)\n",
    "circuit.ry(math.pi/4, 4)\n",
    "\n",
    "circuit.barrier(np.arange(0, 13))\n",
    "\n",
    "step([0, 1, 2, 3, 4, 5, 6, 7], 0)\n",
    "\n",
    "circuit.barrier(np.arange(0, 13))\n",
    "\n",
    "mu((0, 4), 0, 9, 1)\n",
    "step([0, 1, 2, 3, 4, 5, 6, 7], 1)\n",
    "\n",
    "circuit.barrier(np.arange(0, 13))\n",
    "\n",
    "mu((0, 4), 0, 10, 2)\n",
    "step([0, 1, 2, 3, 4, 5, 6, 7], 2)\n",
    "\n",
    "circuit.barrier(np.arange(0, 13))\n",
    "\n",
    "mu_((0, 4), 0, 10, 2)\n",
    "\n",
    "circuit.barrier(np.arange(0, 13))\n",
    "\n",
    "mu_((0, 4), 0, 9, 1)\n",
    "\n",
    "circuit.barrier(np.arange(0, 13))\n",
    "\n",
    "\n",
    "for i in range(0, 4, 1):\n",
    "    circuit.measure(qreg_q[i], creg_mu[i])\n",
    "\n",
    "for i in range(4, 8, 1):\n",
    "    circuit.measure(qreg_q[i], creg_sigma[i-4])\n",
    "\n",
    "for i in range(0, 3, 1):\n",
    "    circuit.measure(qreg_g[i], creg_g[i])\n",
    "\n",
    "#circuit.draw()"
   ]
  },
  {
   "cell_type": "code",
   "execution_count": 11,
   "id": "ce197e5a-cf85-4e2d-86da-b7df8436b6d5",
   "metadata": {},
   "outputs": [],
   "source": [
    "#ibmq_noise_model = provider.get_backend('ibmq_quito')\n",
    "\n",
    "#simulator = QasmSimulator.from_backend(ibmq_noise_model)\n",
    "\n",
    "simulator = QasmSimulator()\n",
    "\n",
    "# compile the circuit down to low-level QASM instructions\n",
    "# supported by the backend (not needed for simple circuits)\n",
    "compiled_circuit = transpile(circuit, simulator)\n",
    "\n",
    "#print(compiled_circuit)\n",
    "#input(a)\n",
    "\n",
    "# Execute the circuit on the qasm simulator\n",
    "job = simulator.run(compiled_circuit, shots=50000)\n",
    "#job = simulator.run(circuit, shots=10000)\n",
    "\n",
    "#QC\n",
    "#job = execute(circuit, backend=ibmq_noise_model, shots=8192)\n",
    "\n",
    "# Grab results from the job\n",
    "result = job.result()"
   ]
  },
  {
   "cell_type": "code",
   "execution_count": 12,
   "id": "b3d4ab73",
   "metadata": {},
   "outputs": [
    {
     "name": "stdout",
     "output_type": "stream",
     "text": [
      "\n",
      "Total count are: {'000 0100 1001': 175, '100 0101 1000': 1189, '011 0100 1000': 7005, '011 0101 1000': 1002, '110 0101 1001': 309, '100 0100 1000': 9099, '110 0100 1000': 3329, '110 0101 1000': 631, '100 0100 1001': 2845, '101 0100 1000': 7081, '010 0100 1000': 3270, '101 0101 1000': 1118, '100 0101 1001': 405, '000 0100 1000': 328, '110 0100 1001': 1710, '111 0100 1001': 622, '111 0100 1000': 980, '011 0100 1001': 1704, '101 0100 1001': 2849, '001 0100 1001': 156, '111 0101 1000': 342, '001 0101 1000': 338, '101 0101 1001': 413, '111 0101 1001': 163, '001 0100 1000': 909, '010 0101 1000': 686, '010 0100 1001': 633, '000 0101 1001': 68, '011 0101 1001': 273, '001 0101 1001': 60, '000 0101 1000': 164, '010 0101 1001': 144}\n"
     ]
    },
    {
     "data": {
      "image/png": "[encoded data removed]",
      "text/plain": [
       "<Figure size 504x360 with 1 Axes>"
      ]
     },
     "execution_count": 12,
     "metadata": {},
     "output_type": "execute_result"
    }
   ],
   "source": [
    "#counts = result.get_counts(compiled_circuit)\n",
    "counts = result.get_counts()\n",
    "\n",
    "print(\"\\nTotal count are:\", counts)\n",
    "\n",
    "# Draw the circuit\n",
    "#circuit.draw()\n",
    "\n",
    "# Plot a histogram\n",
    "plot_histogram(counts)"
   ]
  },
  {
   "cell_type": "code",
   "execution_count": 13,
   "id": "25ab6497",
   "metadata": {},
   "outputs": [
    {
     "name": "stdout",
     "output_type": "stream",
     "text": [
      "Вывод по различным стартовым sigma, mu: [{'000 0100 1001': 175, '100 0100 1001': 2845, '110 0100 1001': 1710, '111 0100 1001': 622, '011 0100 1001': 1704, '101 0100 1001': 2849, '001 0100 1001': 156, '010 0100 1001': 633}, {'100 0101 1000': 1189, '011 0101 1000': 1002, '110 0101 1000': 631, '101 0101 1000': 1118, '111 0101 1000': 342, '001 0101 1000': 338, '010 0101 1000': 686, '000 0101 1000': 164}, {'011 0100 1000': 7005, '100 0100 1000': 9099, '110 0100 1000': 3329, '101 0100 1000': 7081, '010 0100 1000': 3270, '000 0100 1000': 328, '111 0100 1000': 980, '001 0100 1000': 909}, {'110 0101 1001': 309, '100 0101 1001': 405, '101 0101 1001': 413, '111 0101 1001': 163, '000 0101 1001': 68, '011 0101 1001': 273, '001 0101 1001': 60, '010 0101 1001': 144}] \n",
      "\n",
      "Гистограмма для стартовых [sigma, mu] = ['0100', '1001']\n"
     ]
    },
    {
     "data": {
      "image/png": "[encoded data removed]",
      "text/plain": [
       "<Figure size 504x360 with 1 Axes>"
      ]
     },
     "execution_count": 13,
     "metadata": {},
     "output_type": "execute_result"
    }
   ],
   "source": [
    "temp_sigma_mu = []\n",
    "res_count = []\n",
    "\n",
    "for key in counts:\n",
    "    temp_ = [key[4:8], key[-4:]]\n",
    "    if temp_  in temp_sigma_mu:\n",
    "        res_count[temp_sigma_mu.index(temp_)][key] = counts[key]\n",
    "    else:\n",
    "        temp_sigma_mu.append(temp_)\n",
    "        res_count.append({key: counts[key]})\n",
    "\n",
    "i = 0\n",
    "if(len(res_count) > 1):\n",
    "    print(\"Вывод по различным стартовым sigma, mu:\", res_count, '\\n')\n",
    "    i = int(input(\"Введите номер элемента res_count для построения гистограммы:\"))\n",
    "print(\"Гистограмма для стартовых [sigma, mu] =\", temp_sigma_mu[i])\n",
    "plot_histogram(res_count[i])"
   ]
  }
 ],
 "metadata": {
  "kernelspec": {
   "display_name": "Python 3.8.3 32-bit",
   "language": "python",
   "name": "python3"
  },
  "language_info": {
   "codemirror_mode": {
    "name": "ipython",
    "version": 3
   },
   "file_extension": ".py",
   "mimetype": "text/x-python",
   "name": "python",
   "nbconvert_exporter": "python",
   "pygments_lexer": "ipython3",
   "version": "3.8.3 (tags/v3.8.3:6f8c832, May 13 2020, 22:20:19) [MSC v.1925 32 bit (Intel)]"
  },
  "vscode": {
   "interpreter": {
    "hash": "06bee3c40bef011c49c5afc098a23ec0df5286eac1caded2fc719d0c012e63a2"
   }
  },
  "widgets": {
   "application/vnd.jupyter.widget-state+json": {
    "state": {
     "09e9a5fd32f842e38b4a12efe87e9654": {
      "model_module": "@jupyter-widgets/base",
      "model_module_version": "1.2.0",
      "model_name": "LayoutModel",
      "state": {}
     },
     "1cb0fc577325447696f159fe01724eb8": {
      "model_module": "@jupyter-widgets/base",
      "model_module_version": "1.2.0",
      "model_name": "LayoutModel",
      "state": {
       "width": "70px"
      }
     },
     "2004fa2f8575443f8f216466a41e4556": {
      "model_module": "@jupyter-widgets/controls",
      "model_module_version": "1.5.0",
      "model_name": "DescriptionStyleModel",
      "state": {
       "description_width": ""
      }
     },
     "30dd3b66fb464c58bbc0368858ab3b84": {
      "model_module": "@jupyter-widgets/controls",
      "model_module_version": "1.5.0",
      "model_name": "DescriptionStyleModel",
      "state": {
       "description_width": ""
      }
     },
     "55f37c542b7445cfa10695d12c020762": {
      "model_module": "@jupyter-widgets/controls",
      "model_module_version": "1.5.0",
      "model_name": "DescriptionStyleModel",
      "state": {
       "description_width": ""
      }
     },
     "65e27d4898004d339c5fd76de4a8e611": {
      "model_module": "@jupyter-widgets/base",
      "model_module_version": "1.2.0",
      "model_name": "LayoutModel",
      "state": {
       "grid_template_areas": "\n                                       \". . . . right \"\n                                        ",
       "grid_template_columns": "20% 20% 20% 20% 20%",
       "width": "100%"
      }
     },
     "6bd5199ffc4146009fb3a685e89a5865": {
      "model_module": "@jupyter-widgets/base",
      "model_module_version": "1.2.0",
      "model_name": "LayoutModel",
      "state": {
       "margin": "0px 0px 0px 37px",
       "width": "600px"
      }
     },
     "738803a889764dc28da7e2f682c52b10": {
      "model_module": "@jupyter-widgets/base",
      "model_module_version": "1.2.0",
      "model_name": "LayoutModel",
      "state": {
       "margin": "0px 0px 10px 0px"
      }
     },
     "7f824f44ba154d1498e47e8bc98075e8": {
      "model_module": "@jupyter-widgets/controls",
      "model_module_version": "1.5.0",
      "model_name": "HTMLModel",
      "state": {
       "layout": "IPY_MODEL_1cb0fc577325447696f159fe01724eb8",
       "style": "IPY_MODEL_d6afdc7fafb14fd0a61f911ab145432b",
       "value": "<h5>Queue</h5>"
      }
     },
     "9755d13507424e47adf2599cbbd2792a": {
      "model_module": "@jupyter-widgets/controls",
      "model_module_version": "1.5.0",
      "model_name": "HTMLModel",
      "state": {
       "layout": "IPY_MODEL_09e9a5fd32f842e38b4a12efe87e9654",
       "style": "IPY_MODEL_2004fa2f8575443f8f216466a41e4556",
       "value": "<h5>Message</h5>"
      }
     },
     "9b93725a00224618b7b6c910d2ae1a53": {
      "model_module": "@jupyter-widgets/controls",
      "model_module_version": "1.5.0",
      "model_name": "HTMLModel",
      "state": {
       "layout": "IPY_MODEL_be2b38b80fee48aba3efa1761dffa3a7",
       "style": "IPY_MODEL_f1308306f3e747988ef2f339190c4554",
       "value": "<h5>Job ID</h5>"
      }
     },
     "a2c0f5a128974f749b48eb73c76332e6": {
      "model_module": "@jupyter-widgets/controls",
      "model_module_version": "1.5.0",
      "model_name": "HBoxModel",
      "state": {
       "children": [
        "IPY_MODEL_9b93725a00224618b7b6c910d2ae1a53",
        "IPY_MODEL_c67cfa6c3b38417ca1ca6b91b07ce01b",
        "IPY_MODEL_f0a8be0f4796409fa9d04f0a5ff73bfc",
        "IPY_MODEL_7f824f44ba154d1498e47e8bc98075e8",
        "IPY_MODEL_9755d13507424e47adf2599cbbd2792a"
       ],
       "layout": "IPY_MODEL_6bd5199ffc4146009fb3a685e89a5865"
      }
     },
     "a71eea3e02c542a088011abac3baad4d": {
      "model_module": "@jupyter-widgets/controls",
      "model_module_version": "1.5.0",
      "model_name": "GridBoxModel",
      "state": {
       "children": [
        "IPY_MODEL_d6f2596c48044426a040628eb72bbeee"
       ],
       "layout": "IPY_MODEL_65e27d4898004d339c5fd76de4a8e611"
      }
     },
     "b7bc9ca79c804221b18b23d7115c169f": {
      "model_module": "@jupyter-widgets/base",
      "model_module_version": "1.2.0",
      "model_name": "LayoutModel",
      "state": {
       "width": "95px"
      }
     },
     "be2b38b80fee48aba3efa1761dffa3a7": {
      "model_module": "@jupyter-widgets/base",
      "model_module_version": "1.2.0",
      "model_name": "LayoutModel",
      "state": {
       "width": "190px"
      }
     },
     "c67cfa6c3b38417ca1ca6b91b07ce01b": {
      "model_module": "@jupyter-widgets/controls",
      "model_module_version": "1.5.0",
      "model_name": "HTMLModel",
      "state": {
       "layout": "IPY_MODEL_e5389904391d46b094db0edd81681e74",
       "style": "IPY_MODEL_55f37c542b7445cfa10695d12c020762",
       "value": "<h5>Backend</h5>"
      }
     },
     "cc013993809c4fbe8689a87b979e4705": {
      "model_module": "@jupyter-widgets/controls",
      "model_module_version": "1.5.0",
      "model_name": "ButtonStyleModel",
      "state": {}
     },
     "d6afdc7fafb14fd0a61f911ab145432b": {
      "model_module": "@jupyter-widgets/controls",
      "model_module_version": "1.5.0",
      "model_name": "DescriptionStyleModel",
      "state": {
       "description_width": ""
      }
     },
     "d6f2596c48044426a040628eb72bbeee": {
      "model_module": "@jupyter-widgets/controls",
      "model_module_version": "1.5.0",
      "model_name": "ButtonModel",
      "state": {
       "button_style": "primary",
       "description": "Clear",
       "layout": "IPY_MODEL_f33b0d6fbeea42f5ad3e43bcf7319f7f",
       "style": "IPY_MODEL_cc013993809c4fbe8689a87b979e4705"
      }
     },
     "e38f35058c2340d198b0a293136fc442": {
      "model_module": "@jupyter-widgets/controls",
      "model_module_version": "1.5.0",
      "model_name": "DescriptionStyleModel",
      "state": {
       "description_width": ""
      }
     },
     "e5389904391d46b094db0edd81681e74": {
      "model_module": "@jupyter-widgets/base",
      "model_module_version": "1.2.0",
      "model_name": "LayoutModel",
      "state": {
       "width": "145px"
      }
     },
     "f0a8be0f4796409fa9d04f0a5ff73bfc": {
      "model_module": "@jupyter-widgets/controls",
      "model_module_version": "1.5.0",
      "model_name": "HTMLModel",
      "state": {
       "layout": "IPY_MODEL_b7bc9ca79c804221b18b23d7115c169f",
       "style": "IPY_MODEL_30dd3b66fb464c58bbc0368858ab3b84",
       "value": "<h5>Status</h5>"
      }
     },
     "f1308306f3e747988ef2f339190c4554": {
      "model_module": "@jupyter-widgets/controls",
      "model_module_version": "1.5.0",
      "model_name": "DescriptionStyleModel",
      "state": {
       "description_width": ""
      }
     },
     "f33b0d6fbeea42f5ad3e43bcf7319f7f": {
      "model_module": "@jupyter-widgets/base",
      "model_module_version": "1.2.0",
      "model_name": "LayoutModel",
      "state": {
       "grid_area": "right",
       "padding": "0px 0px 0px 0px",
       "width": "70px"
      }
     },
     "f9834ca0209d451cb59f3c00cf626b64": {
      "model_module": "@jupyter-widgets/controls",
      "model_module_version": "1.5.0",
      "model_name": "HTMLModel",
      "state": {
       "layout": "IPY_MODEL_738803a889764dc28da7e2f682c52b10",
       "style": "IPY_MODEL_e38f35058c2340d198b0a293136fc442",
       "value": "<p style='font-family: IBM Plex Sans, Arial, Helvetica, sans-serif; font-size: 20px; font-weight: medium;'>Circuit Properties</p>"
      }
     }
    },
    "version_major": 2,
    "version_minor": 0
   }
  }
 },
 "nbformat": 4,
 "nbformat_minor": 5
}
