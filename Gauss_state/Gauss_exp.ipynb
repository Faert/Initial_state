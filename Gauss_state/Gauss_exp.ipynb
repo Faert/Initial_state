{
 "cells": [
  {
   "cell_type": "code",
   "execution_count": 7,
   "id": "68cd8fc3-6eed-46ed-b6f9-8b593804b69e",
   "metadata": {},
   "outputs": [],
   "source": [
    "import numpy as np\n",
    "\n",
    "# Importing standard Qiskit libraries\n",
    "from qiskit import QuantumCircuit, transpile, Aer, IBMQ\n",
    "#from qiskit.tools.jupyter import *\n",
    "from qiskit.visualization import *\n",
    "#from ibm_quantum_widgets import *\n",
    "from qiskit.providers.aer import QasmSimulator\n",
    "\n",
    "# Loading your IBM Quantum account(s)\n",
    "#IBMQ.save_account('')\n",
    "#provider = IBMQ.load_account()"
   ]
  },
  {
   "cell_type": "code",
   "execution_count": 8,
   "id": "de17f4e2-b06a-4d7d-9746-cdbacd8e7f8f",
   "metadata": {},
   "outputs": [],
   "source": [
    "#from ibm_quantum_widgets import CircuitComposer\n",
    "from qiskit import QuantumRegister, ClassicalRegister, execute\n",
    "#from qiskit_ibm_runtime import QiskitRuntimeService\n",
    "#%matplotlib inline\n",
    "import matplotlib.pyplot as plt\n",
    "import itertools\n",
    "\n",
    "\n",
    "N = 3\n",
    "sigma = 2.5\n",
    "mu = 4.5\n",
    "\n",
    "QRn = N+2\n",
    "CRn = N+2\n",
    "qreg_q = QuantumRegister(QRn, 'q')\n",
    "creg_c = ClassicalRegister(CRn, 'c')\n",
    "circuit = QuantumCircuit(qreg_q, creg_c)\n",
    "\n",
    "#CnNOT\n",
    "\n",
    "def X_bit_s(s):\n",
    "    i = 0\n",
    "    while (s != 0):\n",
    "        if(s & 1):\n",
    "            circuit.x(i)\n",
    "        i = i + 1\n",
    "        s = s >> 1\n",
    "\n",
    "def CnNOT_step(list, c):\n",
    "    if(len(list) >= 2):\n",
    "        i = len(list) - 2\n",
    "        circuit.ccx(list[len(list)-2], list[len(list)-1], c)\n",
    "    else:\n",
    "        i = len(list)\n",
    "    \n",
    "    while(i != 0 and i != 1):\n",
    "        circuit.ccx(list[i-2], list[i-1], list[i])\n",
    "        i -= 2\n",
    "    \n",
    "    if(i == 1):\n",
    "        circuit.cx(list[0], list[i])\n",
    "        i += 2\n",
    "    else:\n",
    "        i += 4\n",
    "    \n",
    "    while(i < len(list)):\n",
    "        circuit.ccx(list[i-2], list[i-1], list[i])\n",
    "        i += 2\n",
    "\n",
    "def CnNOT(list, c, a):\n",
    "    if(len(list) == 1):\n",
    "        circuit.cx(list[0], c)\n",
    "        return\n",
    "    elif(len(list) == 2):\n",
    "        circuit.ccx(list[0], list[1], c)\n",
    "        return\n",
    "\n",
    "    if(len(list) % 2 == 1):\n",
    "        temp = list[1:]\n",
    "    else:\n",
    "        temp = list[2:]\n",
    "    temp.append(a)\n",
    "\n",
    "    CnNOT_step(list, a)\n",
    "    CnNOT_step(list, a)\n",
    "    circuit.barrier(np.arange(min(list), max(list)+1))\n",
    "    CnNOT_step(temp, c)\n",
    "    CnNOT_step(temp, c)\n",
    "    circuit.barrier(np.arange(min(list), max(list)+1))\n",
    "    CnNOT_step(list, a)\n",
    "    CnNOT_step(list, a)\n",
    "    circuit.barrier(np.arange(min(list), max(list)+1))\n",
    "    CnNOT_step(temp, c)\n",
    "    CnNOT_step(temp, c)\n",
    "\n",
    "def norm_(sigma_, mu_, N):\n",
    "    return np.sum(np.exp((-(np.arange(-N, N+1, 1) - mu_)**2)/float(sigma_**2)))\n",
    "\n",
    "def angle_(sigma_, mu_, N=10**3):\n",
    "    return np.arccos(np.sqrt(norm_(sigma_/2., mu_/2., N)/norm_(sigma_, mu_, N)))\n",
    "\n",
    "def qubit_strings(n):\n",
    "    qubit_strings = []\n",
    "    for q in itertools.product(['0', '1'], repeat=n):\n",
    "        qubit_strings.append(''.join(q))\n",
    "    return qubit_strings\n",
    "\n",
    "def mean_qubit_combo(qub, mu):\n",
    "    mu_out = mu\n",
    "    for bit in qub:\n",
    "        mu_out = (mu_out/2.) - ((1/2.)*int(bit))\n",
    "    return mu_out\n",
    "\n",
    "def level_means(mu, n):\n",
    "    list_mu_out = []\n",
    "    qb_strings = qubit_strings(n)\n",
    "    for qb in qb_strings:\n",
    "        mu_out = mean_qubit_combo(qb, mu)\n",
    "        list_mu_out.append(mu_out)\n",
    "    return list_mu_out\n",
    "\n",
    "def level_angles(sigma, mu, n):\n",
    "    sigma_out = sigma/(2.**n)\n",
    "    list_mu = level_means(mu, n)\n",
    "    # for each (sigma, mu) pair, calculate the corresponding angle\n",
    "    angles_out = []\n",
    "    for mu_ in list_mu:\n",
    "        angles_out.append(angle_(sigma_out, mu_))\n",
    "    return angles_out\n",
    "\n",
    "\n",
    "angle = level_angles(sigma, mu, 0)\n",
    "circuit.ry(2*angle[0], 0)\n",
    "\n",
    "start = 0\n",
    "temp = [1]\n",
    "for i in range(1, N):\n",
    "    angles = level_angles(sigma, mu, i)\n",
    "    \n",
    "    end = i+1\n",
    "    for k in range(start, (end + start) // 2, 1):\n",
    "           circuit.swap(k, end + start - k - 1)\n",
    "            \n",
    "    for j in range(2**(i)):\n",
    "        circuit.barrier(np.arange(0, N+2))\n",
    "        X_bit_s((2**(i) - j - 1) << 1)\n",
    "        CnNOT(temp, N, N+1)\n",
    "        circuit.cry(2*angles[j], N, 0)\n",
    "        CnNOT(temp, N, N+1)\n",
    "        X_bit_s((2**(i) - j - 1) << 1)\n",
    "        \n",
    "    for k in range(start, (end + start) // 2, 1):\n",
    "            circuit.swap(k, end + start - k - 1)    \n",
    "        \n",
    "    circuit.barrier(np.arange(0, N+2))\n",
    "    temp.append(i+1)\n",
    "\n",
    "for i in range(0, N, 1):\n",
    "   circuit.measure(qreg_q[i], creg_c[i])\n",
    "\n",
    "#editor = CircuitComposer(circuit=circuit)\n",
    "#editor\n",
    "#circuit.draw(\"mpl\")"
   ]
  },
  {
   "cell_type": "code",
   "execution_count": 9,
   "id": "ce197e5a-cf85-4e2d-86da-b7df8436b6d5",
   "metadata": {},
   "outputs": [
    {
     "name": "stdout",
     "output_type": "stream",
     "text": [
      "\n",
      "Total count are: {'00011': 31724, '00010': 16961, '00101': 43323, '00110': 31516, '00100': 43257, '00111': 17013, '00000': 8114, '00001': 8092}\n"
     ]
    },
    {
     "data": {
      "image/png": "[encoded data removed]",
      "text/plain": [
       "<Figure size 504x360 with 1 Axes>"
      ]
     },
     "execution_count": 9,
     "metadata": {},
     "output_type": "execute_result"
    }
   ],
   "source": [
    "#ibmq_noise_model = provider.get_backend('ibmq_quito')\n",
    "\n",
    "#simulator = QasmSimulator.from_backend(ibmq_noise_model)\n",
    "\n",
    "simulator = QasmSimulator()\n",
    "\n",
    "# compile the circuit down to low-level QASM instructions\n",
    "# supported by the backend (not needed for simple circuits)\n",
    "compiled_circuit = transpile(circuit, simulator)\n",
    "\n",
    "# Execute the circuit on the qasm simulator\n",
    "job = simulator.run(compiled_circuit, shots=200000)\n",
    "\n",
    "#QC\n",
    "#job = execute(circuit, backend=ibmq_noise_model, shots=8192)\n",
    "\n",
    "# Grab results from the job\n",
    "result = job.result()\n",
    "\n",
    "# Returns counts\n",
    "counts = result.get_counts(compiled_circuit)\n",
    "print(\"\\nTotal count are:\",counts)\n",
    "\n",
    "# Draw the circuit\n",
    "#circuit.draw()\n",
    "\n",
    "# Plot a histogram\n",
    "plot_histogram(counts)"
   ]
  },
  {
   "cell_type": "code",
   "execution_count": 10,
   "id": "45499ca2-ede4-4f59-a5e1-57a937a101ea",
   "metadata": {},
   "outputs": [
    {
     "name": "stdout",
     "output_type": "stream",
     "text": [
      "\n",
      "Total count are: {'00010': 17103, '00011': 31438, '00110': 31547, '00111': 17084, '00101': 43229, '00100': 43283, '00001': 8128, '00000': 8188}\n"
     ]
    },
    {
     "data": {
      "image/png": "[encoded data removed]",
      "text/plain": [
       "<Figure size 504x360 with 1 Axes>"
      ]
     },
     "execution_count": 10,
     "metadata": {},
     "output_type": "execute_result"
    }
   ],
   "source": [
    "from qiskit import BasicAer\n",
    "backend = BasicAer.get_backend('qasm_simulator')\n",
    "circ = transpile(circuit, backend, basis_gates=['u1','u2','u3','cx'])\n",
    "job = backend.run(circ, shots=200000)\n",
    "result = job.result()\n",
    "\n",
    "# Returns counts\n",
    "counts = result.get_counts(circ)\n",
    "print(\"\\nTotal count are:\",counts)\n",
    "\n",
    "# Draw the circuit\n",
    "#circuit.draw()\n",
    "\n",
    "# Plot a histogram\n",
    "plot_histogram(counts)"
   ]
  },
  {
   "cell_type": "code",
   "execution_count": 12,
   "id": "2feacc27-6a07-4b2d-9313-555716ff6739",
   "metadata": {},
   "outputs": [
    {
     "name": "stdout",
     "output_type": "stream",
     "text": [
      "\n",
      "Total count are: {'00111': 1695, '00000': 778, '00100': 4312, '00001': 843, '00101': 4315, '00110': 3166, '00011': 3217, '00010': 1674}\n"
     ]
    },
    {
     "data": {
      "image/png": "[encoded data removed]",
      "text/plain": [
       "<Figure size 504x360 with 1 Axes>"
      ]
     },
     "execution_count": 12,
     "metadata": {},
     "output_type": "execute_result"
    }
   ],
   "source": [
    "#ibmq_noise_model = provider.get_backend('ibmq_quito')\n",
    "\n",
    "#simulator = QasmSimulator.from_backend(ibmq_noise_model)\n",
    "\n",
    "simulator = QasmSimulator()\n",
    "\n",
    "# compile the circuit down to low-level QASM instructions\n",
    "# supported by the backend (not needed for simple circuits)\n",
    "compiled_circuit = transpile(circuit, simulator)\n",
    "\n",
    "# Execute the circuit on the qasm simulator\n",
    "job = simulator.run(compiled_circuit, shots=20000)\n",
    "\n",
    "#QC\n",
    "#job = execute(circuit, backend=ibmq_noise_model, shots=8192)\n",
    "\n",
    "# Grab results from the job\n",
    "result = job.result()\n",
    "\n",
    "# Returns counts\n",
    "counts = result.get_counts(compiled_circuit)\n",
    "print(\"\\nTotal count are:\",counts)\n",
    "\n",
    "# Draw the circuit\n",
    "#circuit.draw()\n",
    "\n",
    "# Plot a histogram\n",
    "plot_histogram(counts)"
   ]
  }
 ],
 "metadata": {
  "kernelspec": {
   "display_name": "Python 3.8.3 32-bit",
   "language": "python",
   "name": "python3"
  },
  "language_info": {
   "codemirror_mode": {
    "name": "ipython",
    "version": 3
   },
   "file_extension": ".py",
   "mimetype": "text/x-python",
   "name": "python",
   "nbconvert_exporter": "python",
   "pygments_lexer": "ipython3",
   "version": "3.8.3"
  },
  "vscode": {
   "interpreter": {
    "hash": "06bee3c40bef011c49c5afc098a23ec0df5286eac1caded2fc719d0c012e63a2"
   }
  },
  "widgets": {
   "application/vnd.jupyter.widget-state+json": {
    "state": {
     "09e9a5fd32f842e38b4a12efe87e9654": {
      "model_module": "@jupyter-widgets/base",
      "model_module_version": "1.2.0",
      "model_name": "LayoutModel",
      "state": {}
     },
     "1cb0fc577325447696f159fe01724eb8": {
      "model_module": "@jupyter-widgets/base",
      "model_module_version": "1.2.0",
      "model_name": "LayoutModel",
      "state": {
       "width": "70px"
      }
     },
     "2004fa2f8575443f8f216466a41e4556": {
      "model_module": "@jupyter-widgets/controls",
      "model_module_version": "1.5.0",
      "model_name": "DescriptionStyleModel",
      "state": {
       "description_width": ""
      }
     },
     "30dd3b66fb464c58bbc0368858ab3b84": {
      "model_module": "@jupyter-widgets/controls",
      "model_module_version": "1.5.0",
      "model_name": "DescriptionStyleModel",
      "state": {
       "description_width": ""
      }
     },
     "55f37c542b7445cfa10695d12c020762": {
      "model_module": "@jupyter-widgets/controls",
      "model_module_version": "1.5.0",
      "model_name": "DescriptionStyleModel",
      "state": {
       "description_width": ""
      }
     },
     "65e27d4898004d339c5fd76de4a8e611": {
      "model_module": "@jupyter-widgets/base",
      "model_module_version": "1.2.0",
      "model_name": "LayoutModel",
      "state": {
       "grid_template_areas": "\n                                       \". . . . right \"\n                                        ",
       "grid_template_columns": "20% 20% 20% 20% 20%",
       "width": "100%"
      }
     },
     "6bd5199ffc4146009fb3a685e89a5865": {
      "model_module": "@jupyter-widgets/base",
      "model_module_version": "1.2.0",
      "model_name": "LayoutModel",
      "state": {
       "margin": "0px 0px 0px 37px",
       "width": "600px"
      }
     },
     "738803a889764dc28da7e2f682c52b10": {
      "model_module": "@jupyter-widgets/base",
      "model_module_version": "1.2.0",
      "model_name": "LayoutModel",
      "state": {
       "margin": "0px 0px 10px 0px"
      }
     },
     "7f824f44ba154d1498e47e8bc98075e8": {
      "model_module": "@jupyter-widgets/controls",
      "model_module_version": "1.5.0",
      "model_name": "HTMLModel",
      "state": {
       "layout": "IPY_MODEL_1cb0fc577325447696f159fe01724eb8",
       "style": "IPY_MODEL_d6afdc7fafb14fd0a61f911ab145432b",
       "value": "<h5>Queue</h5>"
      }
     },
     "9755d13507424e47adf2599cbbd2792a": {
      "model_module": "@jupyter-widgets/controls",
      "model_module_version": "1.5.0",
      "model_name": "HTMLModel",
      "state": {
       "layout": "IPY_MODEL_09e9a5fd32f842e38b4a12efe87e9654",
       "style": "IPY_MODEL_2004fa2f8575443f8f216466a41e4556",
       "value": "<h5>Message</h5>"
      }
     },
     "9b93725a00224618b7b6c910d2ae1a53": {
      "model_module": "@jupyter-widgets/controls",
      "model_module_version": "1.5.0",
      "model_name": "HTMLModel",
      "state": {
       "layout": "IPY_MODEL_be2b38b80fee48aba3efa1761dffa3a7",
       "style": "IPY_MODEL_f1308306f3e747988ef2f339190c4554",
       "value": "<h5>Job ID</h5>"
      }
     },
     "a2c0f5a128974f749b48eb73c76332e6": {
      "model_module": "@jupyter-widgets/controls",
      "model_module_version": "1.5.0",
      "model_name": "HBoxModel",
      "state": {
       "children": [
        "IPY_MODEL_9b93725a00224618b7b6c910d2ae1a53",
        "IPY_MODEL_c67cfa6c3b38417ca1ca6b91b07ce01b",
        "IPY_MODEL_f0a8be0f4796409fa9d04f0a5ff73bfc",
        "IPY_MODEL_7f824f44ba154d1498e47e8bc98075e8",
        "IPY_MODEL_9755d13507424e47adf2599cbbd2792a"
       ],
       "layout": "IPY_MODEL_6bd5199ffc4146009fb3a685e89a5865"
      }
     },
     "a71eea3e02c542a088011abac3baad4d": {
      "model_module": "@jupyter-widgets/controls",
      "model_module_version": "1.5.0",
      "model_name": "GridBoxModel",
      "state": {
       "children": [
        "IPY_MODEL_d6f2596c48044426a040628eb72bbeee"
       ],
       "layout": "IPY_MODEL_65e27d4898004d339c5fd76de4a8e611"
      }
     },
     "b7bc9ca79c804221b18b23d7115c169f": {
      "model_module": "@jupyter-widgets/base",
      "model_module_version": "1.2.0",
      "model_name": "LayoutModel",
      "state": {
       "width": "95px"
      }
     },
     "be2b38b80fee48aba3efa1761dffa3a7": {
      "model_module": "@jupyter-widgets/base",
      "model_module_version": "1.2.0",
      "model_name": "LayoutModel",
      "state": {
       "width": "190px"
      }
     },
     "c67cfa6c3b38417ca1ca6b91b07ce01b": {
      "model_module": "@jupyter-widgets/controls",
      "model_module_version": "1.5.0",
      "model_name": "HTMLModel",
      "state": {
       "layout": "IPY_MODEL_e5389904391d46b094db0edd81681e74",
       "style": "IPY_MODEL_55f37c542b7445cfa10695d12c020762",
       "value": "<h5>Backend</h5>"
      }
     },
     "cc013993809c4fbe8689a87b979e4705": {
      "model_module": "@jupyter-widgets/controls",
      "model_module_version": "1.5.0",
      "model_name": "ButtonStyleModel",
      "state": {}
     },
     "d6afdc7fafb14fd0a61f911ab145432b": {
      "model_module": "@jupyter-widgets/controls",
      "model_module_version": "1.5.0",
      "model_name": "DescriptionStyleModel",
      "state": {
       "description_width": ""
      }
     },
     "d6f2596c48044426a040628eb72bbeee": {
      "model_module": "@jupyter-widgets/controls",
      "model_module_version": "1.5.0",
      "model_name": "ButtonModel",
      "state": {
       "button_style": "primary",
       "description": "Clear",
       "layout": "IPY_MODEL_f33b0d6fbeea42f5ad3e43bcf7319f7f",
       "style": "IPY_MODEL_cc013993809c4fbe8689a87b979e4705"
      }
     },
     "e38f35058c2340d198b0a293136fc442": {
      "model_module": "@jupyter-widgets/controls",
      "model_module_version": "1.5.0",
      "model_name": "DescriptionStyleModel",
      "state": {
       "description_width": ""
      }
     },
     "e5389904391d46b094db0edd81681e74": {
      "model_module": "@jupyter-widgets/base",
      "model_module_version": "1.2.0",
      "model_name": "LayoutModel",
      "state": {
       "width": "145px"
      }
     },
     "f0a8be0f4796409fa9d04f0a5ff73bfc": {
      "model_module": "@jupyter-widgets/controls",
      "model_module_version": "1.5.0",
      "model_name": "HTMLModel",
      "state": {
       "layout": "IPY_MODEL_b7bc9ca79c804221b18b23d7115c169f",
       "style": "IPY_MODEL_30dd3b66fb464c58bbc0368858ab3b84",
       "value": "<h5>Status</h5>"
      }
     },
     "f1308306f3e747988ef2f339190c4554": {
      "model_module": "@jupyter-widgets/controls",
      "model_module_version": "1.5.0",
      "model_name": "DescriptionStyleModel",
      "state": {
       "description_width": ""
      }
     },
     "f33b0d6fbeea42f5ad3e43bcf7319f7f": {
      "model_module": "@jupyter-widgets/base",
      "model_module_version": "1.2.0",
      "model_name": "LayoutModel",
      "state": {
       "grid_area": "right",
       "padding": "0px 0px 0px 0px",
       "width": "70px"
      }
     },
     "f9834ca0209d451cb59f3c00cf626b64": {
      "model_module": "@jupyter-widgets/controls",
      "model_module_version": "1.5.0",
      "model_name": "HTMLModel",
      "state": {
       "layout": "IPY_MODEL_738803a889764dc28da7e2f682c52b10",
       "style": "IPY_MODEL_e38f35058c2340d198b0a293136fc442",
       "value": "<p style='font-family: IBM Plex Sans, Arial, Helvetica, sans-serif; font-size: 20px; font-weight: medium;'>Circuit Properties</p>"
      }
     }
    },
    "version_major": 2,
    "version_minor": 0
   }
  }
 },
 "nbformat": 4,
 "nbformat_minor": 5
}
