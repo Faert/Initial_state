{
 "cells": [
  {
   "cell_type": "code",
   "execution_count": 1,
   "id": "de17f4e2-b06a-4d7d-9746-cdbacd8e7f8f",
   "metadata": {},
   "outputs": [],
   "source": [
    "import numpy as np\n",
    "%matplotlib inline\n",
    "import matplotlib.pyplot as plt\n",
    "import itertools\n",
    "import math\n",
    "\n",
    "def apr(reg, a, mod, acc):#reg(start, end), 0 <= start < end, 0 <= a < mod, acc >= 1, integers: start, end, acc\n",
    "    a = a/mod\n",
    "    i = 2\n",
    "    bin_str = \"\"\n",
    "    size = reg[1] - reg[0]\n",
    "    j = 1\n",
    "\n",
    "    while(i < mod*(10**acc) and j <= size):#!acc << test \n",
    "        if(a - 1/i >= 0):\n",
    "            bin_str += \"1\"\n",
    "            a -= 1/i\n",
    "            #circuit.x(reg[1] - j)\n",
    "        elif(a - 1/i < 0):\n",
    "            bin_str += \"0\"\n",
    "        #else:\n",
    "            #bin_str += \"1\"\n",
    "            #circuit.x(reg[1] - j)\n",
    "            #break\n",
    "        i = i << 1\n",
    "        j += 1\n",
    "    \n",
    "    return(bin_str)\n",
    "\n",
    "def norm_(sigma_, mu_, N):\n",
    "    \"\"\"\n",
    "    Normalization factor for the state. Defined in Eq (7) of paper.\n",
    "    Inputs:-\n",
    "    sigma_: standard deviation\n",
    "    mu_: mean\n",
    "    N: cutoff the for the infinite sum, i.e. sum_{i=-N}^{i=N} (...)\n",
    "    \"\"\"\n",
    "    return np.sum(np.exp((-(np.arange(-N, N+1, 1) - mu_)**2)/float(sigma_**2)))\n",
    "\n",
    "def angle_(sigma_, mu_, N=10**3):\n",
    "    \"\"\"\n",
    "    The angle $\\alpha$ defined in Eq (12)\n",
    "    Inputs:-\n",
    "    sigma_: standard deviation\n",
    "    mu_: mean\n",
    "    N: cutoff for the infinite sum in the norm_(..)\n",
    "    \"\"\"\n",
    "    return np.arccos(np.sqrt(norm_(sigma_/2., mu_/2., N)/norm_(sigma_, mu_, N)))\n",
    "\n",
    "def qubit_strings(n):\n",
    "    \"\"\"\n",
    "    Return a list of n-bit strings in increasing lexicographic order\n",
    "    Inputs:-\n",
    "    n: recursion level\n",
    "    \"\"\"\n",
    "    qubit_strings = []\n",
    "    for q in itertools.product(['0', '1'], repeat=n):\n",
    "        qubit_strings.append(''.join(q))\n",
    "    return qubit_strings\n",
    "\n",
    "def mean_qubit_combo(qub, mu):\n",
    "    \"\"\"\n",
    "    Given an n-bit string, return the corresponding mean for the rotation angle\n",
    "    at recursion level n\n",
    "    Inputs:-\n",
    "    qub: n-bit string\n",
    "    mu: mean (original)\n",
    "    \"\"\"\n",
    "    mu_out = mu\n",
    "    for bit in reversed(qub):\n",
    "        mu_out = (mu_out/2.) - ((1/2.)*int(bit))\n",
    "    return mu_out\n",
    "\n",
    "def level_means(mu, n):\n",
    "    \"\"\"\n",
    "    At recursion level n, return a list of all the means used for the various rotation angles\n",
    "    Inputs:-\n",
    "    mu: mean (original)\n",
    "    n: recursion level\n",
    "    \"\"\"\n",
    "    list_mu_out = []\n",
    "    qb_strings = qubit_strings(n)\n",
    "    for qb in qb_strings:\n",
    "        mu_out = mean_qubit_combo(qb, mu)\n",
    "        list_mu_out.append(mu_out)\n",
    "    #print(list_mu_out)\n",
    "    return list_mu_out\n",
    "\n",
    "def level_angles(sigma, mu, n):\n",
    "    \"\"\"\n",
    "    At recursion level n, return a list of all the rotation angles\n",
    "    Inputs:-\n",
    "    sigma: standard deviation (original)\n",
    "    mu: mean (original)\n",
    "    n: recursion level\n",
    "    \"\"\"\n",
    "    sigma_out = sigma/(2.**n)\n",
    "    list_mu = level_means(mu, n)\n",
    "    # for each (sigma, mu) pair, calculate the corresponding angle\n",
    "    angles_out = []\n",
    "    for mu_ in list_mu:\n",
    "        #print(mu_)\n",
    "        angles_out.append(angle_(sigma_out, mu_))\n",
    "    #print(angles_out)\n",
    "    return angles_out\n",
    "\n",
    "\n",
    "f1 = open(\"step_0.txt\", 'w')\n",
    "f2 = open(\"step_1.txt\", 'w')\n",
    "f3 = open(\"step_2.txt\", 'w')\n",
    "f1_out = open(\"step_0_out_a.txt\", 'w')\n",
    "f2_out = open(\"step_1_out_a.txt\", 'w')\n",
    "f3_out = open(\"step_2_out_a.txt\", 'w')\n",
    "\n",
    "#1 < mu < 2^N; 1 < sigma < 2^N - mu; mu >= 0 at all step -->\n",
    "temp0 = []\n",
    "temp1 = []\n",
    "temp2 = []\n",
    "for mu in np.arange(3.0, 8.0, 0.5):\n",
    "    for sigma in np.arange(1.5, 8-mu, 0.5):\n",
    "        #print(\"Step 0\")\n",
    "\n",
    "        ang = level_angles(sigma, mu, 0)\n",
    "        sigma_apr = apr((0, 4), sigma, 8, 3)\n",
    "        mu_apr = apr((0, 4), mu, 8, 3)\n",
    "        ang_apr = apr((0, 5), ang[0], math.pi/2, 3)\n",
    "        if [sigma_apr, mu_apr] in temp0:\n",
    "            print((sigma, mu), \"repeat\", (sigma_apr, mu_apr), ang[0], ang_apr, file=f1)\n",
    "        else:\n",
    "            temp0.append([sigma_apr, mu_apr])\n",
    "            print((sigma, mu), (sigma_apr, mu_apr), ang[0], ang_apr, file=f1)\n",
    "            print(sigma_apr+mu_apr, 2*ang[0], file=f1_out)\n",
    "\n",
    "        #print(\"Step 1\")\n",
    "\n",
    "        ang = level_angles(sigma, mu, 1)\n",
    "\n",
    "        #ang[0], ang[1] = ang[1], ang[0] #!!!\n",
    "\n",
    "        sigma_apr = apr((0, 4), sigma, 8, 3)\n",
    "        mu_apr = apr((0, 4), mu, 8, 3)\n",
    "        ang_apr = apr((0, 5), ang[0], math.pi/2, 3)\n",
    "        if [sigma_apr, mu_apr] in temp1:\n",
    "            print((sigma/2, mu/2), \"repeat\", (sigma_apr, mu_apr), ang[0], ang_apr, file=f2)\n",
    "        else:\n",
    "            temp1.append([sigma_apr, mu_apr])\n",
    "            print((sigma/2, mu/2), (sigma_apr, mu_apr), ang[0], ang_apr, file=f2)\n",
    "            print(sigma_apr+mu_apr, 2*ang[0], file=f2_out)\n",
    "\n",
    "        mu_apr = apr((0, 4), mu-1, 8, 3)\n",
    "        ang_apr = apr((0, 5), ang[1], math.pi/2, 3)\n",
    "        if [sigma_apr, mu_apr] in temp1:\n",
    "            print((sigma/2, (mu-1)/2), \"repeat\", (sigma_apr, mu_apr), ang[1], ang_apr, file=f2)\n",
    "        else:\n",
    "            temp1.append([sigma_apr, mu_apr])\n",
    "            print((sigma/2, (mu-1)/2), (sigma_apr, mu_apr), ang[1], ang_apr, file=f2)\n",
    "            print(sigma_apr+mu_apr, 2*ang[1], file=f2_out)\n",
    "\n",
    "        #print(\"Step 2\")\n",
    "\n",
    "        ang = level_angles(sigma, mu, 2)\n",
    "\n",
    "        #ang[1], ang[2] = ang[2], ang[1] #!!!\n",
    "\n",
    "        sigma_apr = apr((0, 4), sigma, 8, 3)\n",
    "        mu_apr = apr((0, 4), mu, 8, 3)\n",
    "        ang_apr = apr((0, 5), ang[0], math.pi/2, 3)\n",
    "        if [sigma_apr, mu_apr] in temp2:\n",
    "            print((sigma/4, mu/4), \"repeat\", (sigma_apr, mu_apr), ang[0], ang_apr, file=f3)\n",
    "        else:\n",
    "            temp2.append([sigma_apr, mu_apr])\n",
    "            print((sigma/4, mu/4), (sigma_apr, mu_apr), ang[0], ang_apr, file=f3)\n",
    "            print(sigma_apr+mu_apr, 2*ang[0], file=f3_out)\n",
    "\n",
    "        mu_apr = apr((0, 4), mu-1, 8, 3)\n",
    "        ang_apr = apr((0, 5), ang[1], math.pi/2, 3)\n",
    "        if [sigma_apr, mu_apr] in temp2:\n",
    "            print((sigma/4, (mu/2-1)/2), \"repeat\", (sigma_apr, mu_apr), ang[1], ang_apr, file=f3)\n",
    "        else:\n",
    "            temp2.append([sigma_apr, mu_apr])\n",
    "            print((sigma/4, (mu/2-1)/2), (sigma_apr, mu_apr), ang[1], ang_apr, file=f3)\n",
    "            print(sigma_apr+mu_apr, 2*ang[1], file=f3_out)\n",
    "\n",
    "        mu_apr = apr((0, 4), mu-2, 8, 3)\n",
    "        ang_apr = apr((0, 5), ang[2], math.pi/2, 3)\n",
    "        if [sigma_apr, mu_apr] in temp2:\n",
    "            print((sigma/4, (mu-1)/4), \"repeat\", (sigma_apr, mu_apr), ang[2], ang_apr, file=f3)\n",
    "        else:\n",
    "            temp2.append([sigma_apr, mu_apr])\n",
    "            print((sigma/4, (mu-1)/4), (sigma_apr, mu_apr), ang[2], ang_apr, file=f3)\n",
    "            print(sigma_apr+mu_apr, 2*ang[2], file=f3_out)\n",
    "            \n",
    "        mu_apr = apr((0, 4), mu-3, 8, 3)\n",
    "        ang_apr = apr((0, 5), ang[3], math.pi/2, 3)\n",
    "        if [sigma_apr, mu_apr] in temp2:\n",
    "            print((sigma/4, ((mu-1)/2 - 1)/2), \"repeat\", (sigma_apr, mu_apr), ang[3], ang_apr, file=f3)\n",
    "        else:\n",
    "            temp2.append([sigma_apr, mu_apr])\n",
    "            print((sigma/4, ((mu-1)/2 - 1)/2), (sigma_apr, mu_apr), ang[3], ang_apr, file=f3)\n",
    "            print(sigma_apr+mu_apr, 2*ang[3], file=f3_out)\n",
    "\n",
    "        #print('\\n')\n",
    "\n",
    "f1.close()\n",
    "f2.close()\n",
    "f3.close()\n",
    "f1_out.close()\n",
    "f2_out.close()\n",
    "f3_out.close()\n"
   ]
  }
 ],
 "metadata": {
  "kernelspec": {
   "display_name": "Python 3.8.3 32-bit",
   "language": "python",
   "name": "python3"
  },
  "language_info": {
   "codemirror_mode": {
    "name": "ipython",
    "version": 3
   },
   "file_extension": ".py",
   "mimetype": "text/x-python",
   "name": "python",
   "nbconvert_exporter": "python",
   "pygments_lexer": "ipython3",
   "version": "3.8.3"
  },
  "vscode": {
   "interpreter": {
    "hash": "06bee3c40bef011c49c5afc098a23ec0df5286eac1caded2fc719d0c012e63a2"
   }
  },
  "widgets": {
   "application/vnd.jupyter.widget-state+json": {
    "state": {
     "09e9a5fd32f842e38b4a12efe87e9654": {
      "model_module": "@jupyter-widgets/base",
      "model_module_version": "1.2.0",
      "model_name": "LayoutModel",
      "state": {}
     },
     "1cb0fc577325447696f159fe01724eb8": {
      "model_module": "@jupyter-widgets/base",
      "model_module_version": "1.2.0",
      "model_name": "LayoutModel",
      "state": {
       "width": "70px"
      }
     },
     "2004fa2f8575443f8f216466a41e4556": {
      "model_module": "@jupyter-widgets/controls",
      "model_module_version": "1.5.0",
      "model_name": "DescriptionStyleModel",
      "state": {
       "description_width": ""
      }
     },
     "30dd3b66fb464c58bbc0368858ab3b84": {
      "model_module": "@jupyter-widgets/controls",
      "model_module_version": "1.5.0",
      "model_name": "DescriptionStyleModel",
      "state": {
       "description_width": ""
      }
     },
     "55f37c542b7445cfa10695d12c020762": {
      "model_module": "@jupyter-widgets/controls",
      "model_module_version": "1.5.0",
      "model_name": "DescriptionStyleModel",
      "state": {
       "description_width": ""
      }
     },
     "65e27d4898004d339c5fd76de4a8e611": {
      "model_module": "@jupyter-widgets/base",
      "model_module_version": "1.2.0",
      "model_name": "LayoutModel",
      "state": {
       "grid_template_areas": "\n                                       \". . . . right \"\n                                        ",
       "grid_template_columns": "20% 20% 20% 20% 20%",
       "width": "100%"
      }
     },
     "6bd5199ffc4146009fb3a685e89a5865": {
      "model_module": "@jupyter-widgets/base",
      "model_module_version": "1.2.0",
      "model_name": "LayoutModel",
      "state": {
       "margin": "0px 0px 0px 37px",
       "width": "600px"
      }
     },
     "738803a889764dc28da7e2f682c52b10": {
      "model_module": "@jupyter-widgets/base",
      "model_module_version": "1.2.0",
      "model_name": "LayoutModel",
      "state": {
       "margin": "0px 0px 10px 0px"
      }
     },
     "7f824f44ba154d1498e47e8bc98075e8": {
      "model_module": "@jupyter-widgets/controls",
      "model_module_version": "1.5.0",
      "model_name": "HTMLModel",
      "state": {
       "layout": "IPY_MODEL_1cb0fc577325447696f159fe01724eb8",
       "style": "IPY_MODEL_d6afdc7fafb14fd0a61f911ab145432b",
       "value": "<h5>Queue</h5>"
      }
     },
     "9755d13507424e47adf2599cbbd2792a": {
      "model_module": "@jupyter-widgets/controls",
      "model_module_version": "1.5.0",
      "model_name": "HTMLModel",
      "state": {
       "layout": "IPY_MODEL_09e9a5fd32f842e38b4a12efe87e9654",
       "style": "IPY_MODEL_2004fa2f8575443f8f216466a41e4556",
       "value": "<h5>Message</h5>"
      }
     },
     "9b93725a00224618b7b6c910d2ae1a53": {
      "model_module": "@jupyter-widgets/controls",
      "model_module_version": "1.5.0",
      "model_name": "HTMLModel",
      "state": {
       "layout": "IPY_MODEL_be2b38b80fee48aba3efa1761dffa3a7",
       "style": "IPY_MODEL_f1308306f3e747988ef2f339190c4554",
       "value": "<h5>Job ID</h5>"
      }
     },
     "a2c0f5a128974f749b48eb73c76332e6": {
      "model_module": "@jupyter-widgets/controls",
      "model_module_version": "1.5.0",
      "model_name": "HBoxModel",
      "state": {
       "children": [
        "IPY_MODEL_9b93725a00224618b7b6c910d2ae1a53",
        "IPY_MODEL_c67cfa6c3b38417ca1ca6b91b07ce01b",
        "IPY_MODEL_f0a8be0f4796409fa9d04f0a5ff73bfc",
        "IPY_MODEL_7f824f44ba154d1498e47e8bc98075e8",
        "IPY_MODEL_9755d13507424e47adf2599cbbd2792a"
       ],
       "layout": "IPY_MODEL_6bd5199ffc4146009fb3a685e89a5865"
      }
     },
     "a71eea3e02c542a088011abac3baad4d": {
      "model_module": "@jupyter-widgets/controls",
      "model_module_version": "1.5.0",
      "model_name": "GridBoxModel",
      "state": {
       "children": [
        "IPY_MODEL_d6f2596c48044426a040628eb72bbeee"
       ],
       "layout": "IPY_MODEL_65e27d4898004d339c5fd76de4a8e611"
      }
     },
     "b7bc9ca79c804221b18b23d7115c169f": {
      "model_module": "@jupyter-widgets/base",
      "model_module_version": "1.2.0",
      "model_name": "LayoutModel",
      "state": {
       "width": "95px"
      }
     },
     "be2b38b80fee48aba3efa1761dffa3a7": {
      "model_module": "@jupyter-widgets/base",
      "model_module_version": "1.2.0",
      "model_name": "LayoutModel",
      "state": {
       "width": "190px"
      }
     },
     "c67cfa6c3b38417ca1ca6b91b07ce01b": {
      "model_module": "@jupyter-widgets/controls",
      "model_module_version": "1.5.0",
      "model_name": "HTMLModel",
      "state": {
       "layout": "IPY_MODEL_e5389904391d46b094db0edd81681e74",
       "style": "IPY_MODEL_55f37c542b7445cfa10695d12c020762",
       "value": "<h5>Backend</h5>"
      }
     },
     "cc013993809c4fbe8689a87b979e4705": {
      "model_module": "@jupyter-widgets/controls",
      "model_module_version": "1.5.0",
      "model_name": "ButtonStyleModel",
      "state": {}
     },
     "d6afdc7fafb14fd0a61f911ab145432b": {
      "model_module": "@jupyter-widgets/controls",
      "model_module_version": "1.5.0",
      "model_name": "DescriptionStyleModel",
      "state": {
       "description_width": ""
      }
     },
     "d6f2596c48044426a040628eb72bbeee": {
      "model_module": "@jupyter-widgets/controls",
      "model_module_version": "1.5.0",
      "model_name": "ButtonModel",
      "state": {
       "button_style": "primary",
       "description": "Clear",
       "layout": "IPY_MODEL_f33b0d6fbeea42f5ad3e43bcf7319f7f",
       "style": "IPY_MODEL_cc013993809c4fbe8689a87b979e4705"
      }
     },
     "e38f35058c2340d198b0a293136fc442": {
      "model_module": "@jupyter-widgets/controls",
      "model_module_version": "1.5.0",
      "model_name": "DescriptionStyleModel",
      "state": {
       "description_width": ""
      }
     },
     "e5389904391d46b094db0edd81681e74": {
      "model_module": "@jupyter-widgets/base",
      "model_module_version": "1.2.0",
      "model_name": "LayoutModel",
      "state": {
       "width": "145px"
      }
     },
     "f0a8be0f4796409fa9d04f0a5ff73bfc": {
      "model_module": "@jupyter-widgets/controls",
      "model_module_version": "1.5.0",
      "model_name": "HTMLModel",
      "state": {
       "layout": "IPY_MODEL_b7bc9ca79c804221b18b23d7115c169f",
       "style": "IPY_MODEL_30dd3b66fb464c58bbc0368858ab3b84",
       "value": "<h5>Status</h5>"
      }
     },
     "f1308306f3e747988ef2f339190c4554": {
      "model_module": "@jupyter-widgets/controls",
      "model_module_version": "1.5.0",
      "model_name": "DescriptionStyleModel",
      "state": {
       "description_width": ""
      }
     },
     "f33b0d6fbeea42f5ad3e43bcf7319f7f": {
      "model_module": "@jupyter-widgets/base",
      "model_module_version": "1.2.0",
      "model_name": "LayoutModel",
      "state": {
       "grid_area": "right",
       "padding": "0px 0px 0px 0px",
       "width": "70px"
      }
     },
     "f9834ca0209d451cb59f3c00cf626b64": {
      "model_module": "@jupyter-widgets/controls",
      "model_module_version": "1.5.0",
      "model_name": "HTMLModel",
      "state": {
       "layout": "IPY_MODEL_738803a889764dc28da7e2f682c52b10",
       "style": "IPY_MODEL_e38f35058c2340d198b0a293136fc442",
       "value": "<p style='font-family: IBM Plex Sans, Arial, Helvetica, sans-serif; font-size: 20px; font-weight: medium;'>Circuit Properties</p>"
      }
     }
    },
    "version_major": 2,
    "version_minor": 0
   }
  }
 },
 "nbformat": 4,
 "nbformat_minor": 5
}
